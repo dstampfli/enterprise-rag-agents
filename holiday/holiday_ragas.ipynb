{
 "cells": [
  {
   "cell_type": "code",
   "execution_count": null,
   "metadata": {},
   "outputs": [],
   "source": [
    "%pip install -qU langchain-cohere langchain-community langchain-core==0.2.40 langchain-openai langchain-qdrant\n",
    "%pip install -qU docx2txt\n",
    "%pip install -qU IProgress\n",
    "%pip install -qU ipywidgets\n",
    "%pip install -qU pymupdf\n",
    "%pip install -qU python-dotenv\n",
    "%pip install -qU ragas\n",
    "%pip install -qU tqdm\n",
    "%pip install -qU unstructured "
   ]
  },
  {
   "cell_type": "code",
   "execution_count": null,
   "metadata": {},
   "outputs": [],
   "source": [
    "from langchain_openai import ChatOpenAI\n",
    "from ragas.llms import LangchainLLMWrapper\n",
    "from ragas.testset import TestsetGenerator\n",
    "from ragas.testset.synthesizers import SingleHopSpecificQuerySynthesizer, MultiHopSpecificQuerySynthesizer\n",
    "\n",
    "# Split the documents into chunks\n",
    "docs = process_directory('docs/', '**/*.pdf', PyMuPDFLoader, True)\n",
    "chunks = chunk_docs_recursive(docs=docs, chunk_size=1000, chunk_overlap=200)\n",
    "\n",
    "# Wrap the LLM with LangchainLLMWrapper using OpenAI GPT-4 model\n",
    "evaluator_llm = LangchainLLMWrapper(ChatOpenAI(model=\"gpt-4o\"))\n",
    "\n",
    "# Generate the test set with the loaded documents (generating 30 examples)\n",
    "generator = TestsetGenerator(llm=evaluator_llm, embedding_model=OpenAIEmbeddings())\n",
    "\n",
    "query_distribution = [\n",
    "    (MultiHopSpecificQuerySynthesizer(llm=evaluator_llm), 0.5),\n",
    "    (SingleHopSpecificQuerySynthesizer(llm=evaluator_llm), 0.5),\n",
    "]\n",
    "\n",
    "# Call the generate_with_langchain_docs with the custom query_distribution\n",
    "dataset = generator.generate_with_langchain_docs(\n",
    "    chunks, \n",
    "    testset_size=2, \n",
    "    query_distribution=query_distribution\n",
    ")\n",
    "\n",
    "# Convert the generated dataset to a Pandas DataFrame\n",
    "df = dataset.to_pandas()\n",
    "print(df)\n",
    "\n",
    "# Optionally, save the generated testset to a CSV file for further inspection\n",
    "output_csv_path = \"10k_testset.csv\"\n",
    "df.to_csv(output_csv_path, index=False)\n",
    "print(f\"Generated testset saved to {output_csv_path}\")"
   ]
  }
 ],
 "metadata": {
  "kernelspec": {
   "display_name": "era4-holiday-ragas",
   "language": "python",
   "name": "python3"
  },
  "language_info": {
   "name": "python",
   "version": "3.11.11"
  }
 },
 "nbformat": 4,
 "nbformat_minor": 2
}
